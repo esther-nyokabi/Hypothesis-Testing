{
  "nbformat": 4,
  "nbformat_minor": 0,
  "metadata": {
    "colab": {
      "provenance": [],
      "collapsed_sections": [],
      "toc_visible": true,
      "authorship_tag": "ABX9TyOk/KKiuDwHw3e2FpEUqEy7",
      "include_colab_link": true
    },
    "kernelspec": {
      "name": "python3",
      "display_name": "Python 3"
    },
    "language_info": {
      "name": "python"
    }
  },
  "cells": [
    {
      "cell_type": "markdown",
      "metadata": {
        "id": "view-in-github",
        "colab_type": "text"
      },
      "source": [
        "<a href=\"https://colab.research.google.com/github/esther-nyokabi/Moringa-Core-Statistics/blob/main/Independent_Project_Hypothesis_Testing.ipynb\" target=\"_parent\"><img src=\"https://colab.research.google.com/assets/colab-badge.svg\" alt=\"Open In Colab\"/></a>"
      ]
    },
    {
      "cell_type": "markdown",
      "source": [
        "# Defining the Question"
      ],
      "metadata": {
        "id": "gXs7lQ-ECSrk"
      }
    },
    {
      "cell_type": "markdown",
      "source": [
        "# Specifying the Data Analytic Question"
      ],
      "metadata": {
        "id": "IbPOilgXCaAE"
      }
    },
    {
      "cell_type": "markdown",
      "source": [
        "Investigating a claim about the blue cars from the provided Autolib dataset.\n",
        "-  On a given weekday, the number of BlueCars taken is more than the total combined number of Utilib and Utilib_14 cars.  (CLAIM:) - Alternative hypothesis\n",
        "\n",
        "- On a given weekday, the number of BlueCars taken is not more than the total combined number of Utilib and Utilib_14 cars.Null hypothesis"
      ],
      "metadata": {
        "id": "_wRrH1B0Cy5q"
      }
    },
    {
      "cell_type": "markdown",
      "source": [
        "# Defining the metric of Success"
      ],
      "metadata": {
        "id": "4D5pbEktC5zl"
      }
    },
    {
      "cell_type": "markdown",
      "source": [
        "The objective for this data includes investigating the claim whether or not the the average number of blue cars taken is different from that of the blue cars returned"
      ],
      "metadata": {
        "id": "VGCR0CWXEr3g"
      }
    },
    {
      "cell_type": "markdown",
      "source": [
        "# Understanding the concept"
      ],
      "metadata": {
        "id": "WpXllbROFLt-"
      }
    },
    {
      "cell_type": "markdown",
      "source": [
        "We have been tasked to understand electric car usage. We will work as a Data Scientist for the Autolib electric car-sharing service company to investigate a claim about the blue cars from the provided Autolib dataset.\n",
        "\n",
        "In an effort to do this, we need to identify some areas and periods of interest via sampling stating the reason to the choice of method, then perform hypothesis testing with regards to the claim that we will have made. An example of claim to test would be \"Is the number of Bluecars taken in area X different than in area Y? Is it greater in area X than in area Z? Etc”. The selected periods of interest be either weekdays or weekends but not a mix of both. You can also consider postal codes 75015 vs 75017 to some of the areas of interest."
      ],
      "metadata": {
        "id": "Str1SI2BFOxl"
      }
    },
    {
      "cell_type": "markdown",
      "source": [
        "#  Recording the Experimental Design"
      ],
      "metadata": {
        "id": "6CzYNa4DFZu-"
      }
    },
    {
      "cell_type": "markdown",
      "source": [
        "To work on this project, we will perform the following\n",
        "\n",
        "- Finding and dealing with outliers, anomalies, and missing data within the dataset.\n",
        "- Conducting univariate and bivariate analysis recording our observations.\n",
        "- Implementing the solution by performing hypothesis testing"
      ],
      "metadata": {
        "id": "0z3j-NI5F6QL"
      }
    },
    {
      "cell_type": "markdown",
      "source": [
        "# Relevance of the data"
      ],
      "metadata": {
        "id": "Hci9aV06GhOF"
      }
    },
    {
      "cell_type": "markdown",
      "source": [
        "The provided dataset is a daily aggregation of the number of events on the Autolib network. The dataset used is relevant for this analysis."
      ],
      "metadata": {
        "id": "utKR3cQLGc8j"
      }
    },
    {
      "cell_type": "markdown",
      "source": [
        "# Data Preparation"
      ],
      "metadata": {
        "id": "Zaw5qArOG4a3"
      }
    },
    {
      "cell_type": "markdown",
      "source": [
        "###Importing libraries"
      ],
      "metadata": {
        "id": "0EdwaqQeHQfb"
      }
    },
    {
      "cell_type": "code",
      "source": [
        "import pandas as pd\n",
        "import numpy as np\n",
        "import seaborn as sns\n",
        "import matplotlib\n",
        "from matplotlib import pyplot as plt\n",
        "%matplotlib inline\n",
        "import warnings\n",
        "warnings.filterwarnings(\"ignore\")"
      ],
      "metadata": {
        "id": "7FWLA9L9HLoh"
      },
      "execution_count": 92,
      "outputs": []
    },
    {
      "cell_type": "markdown",
      "source": [
        "## Loading the Dataset"
      ],
      "metadata": {
        "id": "z7BGsVQaHxld"
      }
    },
    {
      "cell_type": "code",
      "source": [
        "df = pd.read_csv(\"autolib_daily_events_postal_code.csv\")\n",
        "df.head()"
      ],
      "metadata": {
        "colab": {
          "base_uri": "https://localhost:8080/",
          "height": 287
        },
        "id": "oPZOX3CBH30K",
        "outputId": "a2573455-3f85-4185-c7cf-fed9012138ac"
      },
      "execution_count": 93,
      "outputs": [
        {
          "output_type": "execute_result",
          "data": {
            "text/plain": [
              "   Postal code      date  n_daily_data_points  dayOfWeek day_type  \\\n",
              "0        75001  1/1/2018                 1440          0  weekday   \n",
              "1        75001  1/2/2018                 1438          1  weekday   \n",
              "2        75001  1/3/2018                 1439          2  weekday   \n",
              "3        75001  1/4/2018                 1320          3  weekday   \n",
              "4        75001  1/5/2018                 1440          4  weekday   \n",
              "\n",
              "   BlueCars_taken_sum  BlueCars_returned_sum  Utilib_taken_sum  \\\n",
              "0                 110                    103                 3   \n",
              "1                  98                     94                 1   \n",
              "2                 138                    139                 0   \n",
              "3                 104                    104                 2   \n",
              "4                 114                    117                 3   \n",
              "\n",
              "   Utilib_returned_sum  Utilib_14_taken_sum  Utilib_14_returned_sum  \\\n",
              "0                    2                   10                       9   \n",
              "1                    1                    8                       8   \n",
              "2                    0                    2                       2   \n",
              "3                    2                    9                       8   \n",
              "4                    3                    6                       6   \n",
              "\n",
              "   Slots_freed_sum  Slots_taken_sum  \n",
              "0               22               20  \n",
              "1               23               22  \n",
              "2               27               27  \n",
              "3               25               21  \n",
              "4               18               20  "
            ],
            "text/html": [
              "\n",
              "  <div id=\"df-1dc9664e-f6eb-43d1-b28d-d74675e7988c\">\n",
              "    <div class=\"colab-df-container\">\n",
              "      <div>\n",
              "<style scoped>\n",
              "    .dataframe tbody tr th:only-of-type {\n",
              "        vertical-align: middle;\n",
              "    }\n",
              "\n",
              "    .dataframe tbody tr th {\n",
              "        vertical-align: top;\n",
              "    }\n",
              "\n",
              "    .dataframe thead th {\n",
              "        text-align: right;\n",
              "    }\n",
              "</style>\n",
              "<table border=\"1\" class=\"dataframe\">\n",
              "  <thead>\n",
              "    <tr style=\"text-align: right;\">\n",
              "      <th></th>\n",
              "      <th>Postal code</th>\n",
              "      <th>date</th>\n",
              "      <th>n_daily_data_points</th>\n",
              "      <th>dayOfWeek</th>\n",
              "      <th>day_type</th>\n",
              "      <th>BlueCars_taken_sum</th>\n",
              "      <th>BlueCars_returned_sum</th>\n",
              "      <th>Utilib_taken_sum</th>\n",
              "      <th>Utilib_returned_sum</th>\n",
              "      <th>Utilib_14_taken_sum</th>\n",
              "      <th>Utilib_14_returned_sum</th>\n",
              "      <th>Slots_freed_sum</th>\n",
              "      <th>Slots_taken_sum</th>\n",
              "    </tr>\n",
              "  </thead>\n",
              "  <tbody>\n",
              "    <tr>\n",
              "      <th>0</th>\n",
              "      <td>75001</td>\n",
              "      <td>1/1/2018</td>\n",
              "      <td>1440</td>\n",
              "      <td>0</td>\n",
              "      <td>weekday</td>\n",
              "      <td>110</td>\n",
              "      <td>103</td>\n",
              "      <td>3</td>\n",
              "      <td>2</td>\n",
              "      <td>10</td>\n",
              "      <td>9</td>\n",
              "      <td>22</td>\n",
              "      <td>20</td>\n",
              "    </tr>\n",
              "    <tr>\n",
              "      <th>1</th>\n",
              "      <td>75001</td>\n",
              "      <td>1/2/2018</td>\n",
              "      <td>1438</td>\n",
              "      <td>1</td>\n",
              "      <td>weekday</td>\n",
              "      <td>98</td>\n",
              "      <td>94</td>\n",
              "      <td>1</td>\n",
              "      <td>1</td>\n",
              "      <td>8</td>\n",
              "      <td>8</td>\n",
              "      <td>23</td>\n",
              "      <td>22</td>\n",
              "    </tr>\n",
              "    <tr>\n",
              "      <th>2</th>\n",
              "      <td>75001</td>\n",
              "      <td>1/3/2018</td>\n",
              "      <td>1439</td>\n",
              "      <td>2</td>\n",
              "      <td>weekday</td>\n",
              "      <td>138</td>\n",
              "      <td>139</td>\n",
              "      <td>0</td>\n",
              "      <td>0</td>\n",
              "      <td>2</td>\n",
              "      <td>2</td>\n",
              "      <td>27</td>\n",
              "      <td>27</td>\n",
              "    </tr>\n",
              "    <tr>\n",
              "      <th>3</th>\n",
              "      <td>75001</td>\n",
              "      <td>1/4/2018</td>\n",
              "      <td>1320</td>\n",
              "      <td>3</td>\n",
              "      <td>weekday</td>\n",
              "      <td>104</td>\n",
              "      <td>104</td>\n",
              "      <td>2</td>\n",
              "      <td>2</td>\n",
              "      <td>9</td>\n",
              "      <td>8</td>\n",
              "      <td>25</td>\n",
              "      <td>21</td>\n",
              "    </tr>\n",
              "    <tr>\n",
              "      <th>4</th>\n",
              "      <td>75001</td>\n",
              "      <td>1/5/2018</td>\n",
              "      <td>1440</td>\n",
              "      <td>4</td>\n",
              "      <td>weekday</td>\n",
              "      <td>114</td>\n",
              "      <td>117</td>\n",
              "      <td>3</td>\n",
              "      <td>3</td>\n",
              "      <td>6</td>\n",
              "      <td>6</td>\n",
              "      <td>18</td>\n",
              "      <td>20</td>\n",
              "    </tr>\n",
              "  </tbody>\n",
              "</table>\n",
              "</div>\n",
              "      <button class=\"colab-df-convert\" onclick=\"convertToInteractive('df-1dc9664e-f6eb-43d1-b28d-d74675e7988c')\"\n",
              "              title=\"Convert this dataframe to an interactive table.\"\n",
              "              style=\"display:none;\">\n",
              "        \n",
              "  <svg xmlns=\"http://www.w3.org/2000/svg\" height=\"24px\"viewBox=\"0 0 24 24\"\n",
              "       width=\"24px\">\n",
              "    <path d=\"M0 0h24v24H0V0z\" fill=\"none\"/>\n",
              "    <path d=\"M18.56 5.44l.94 2.06.94-2.06 2.06-.94-2.06-.94-.94-2.06-.94 2.06-2.06.94zm-11 1L8.5 8.5l.94-2.06 2.06-.94-2.06-.94L8.5 2.5l-.94 2.06-2.06.94zm10 10l.94 2.06.94-2.06 2.06-.94-2.06-.94-.94-2.06-.94 2.06-2.06.94z\"/><path d=\"M17.41 7.96l-1.37-1.37c-.4-.4-.92-.59-1.43-.59-.52 0-1.04.2-1.43.59L10.3 9.45l-7.72 7.72c-.78.78-.78 2.05 0 2.83L4 21.41c.39.39.9.59 1.41.59.51 0 1.02-.2 1.41-.59l7.78-7.78 2.81-2.81c.8-.78.8-2.07 0-2.86zM5.41 20L4 18.59l7.72-7.72 1.47 1.35L5.41 20z\"/>\n",
              "  </svg>\n",
              "      </button>\n",
              "      \n",
              "  <style>\n",
              "    .colab-df-container {\n",
              "      display:flex;\n",
              "      flex-wrap:wrap;\n",
              "      gap: 12px;\n",
              "    }\n",
              "\n",
              "    .colab-df-convert {\n",
              "      background-color: #E8F0FE;\n",
              "      border: none;\n",
              "      border-radius: 50%;\n",
              "      cursor: pointer;\n",
              "      display: none;\n",
              "      fill: #1967D2;\n",
              "      height: 32px;\n",
              "      padding: 0 0 0 0;\n",
              "      width: 32px;\n",
              "    }\n",
              "\n",
              "    .colab-df-convert:hover {\n",
              "      background-color: #E2EBFA;\n",
              "      box-shadow: 0px 1px 2px rgba(60, 64, 67, 0.3), 0px 1px 3px 1px rgba(60, 64, 67, 0.15);\n",
              "      fill: #174EA6;\n",
              "    }\n",
              "\n",
              "    [theme=dark] .colab-df-convert {\n",
              "      background-color: #3B4455;\n",
              "      fill: #D2E3FC;\n",
              "    }\n",
              "\n",
              "    [theme=dark] .colab-df-convert:hover {\n",
              "      background-color: #434B5C;\n",
              "      box-shadow: 0px 1px 3px 1px rgba(0, 0, 0, 0.15);\n",
              "      filter: drop-shadow(0px 1px 2px rgba(0, 0, 0, 0.3));\n",
              "      fill: #FFFFFF;\n",
              "    }\n",
              "  </style>\n",
              "\n",
              "      <script>\n",
              "        const buttonEl =\n",
              "          document.querySelector('#df-1dc9664e-f6eb-43d1-b28d-d74675e7988c button.colab-df-convert');\n",
              "        buttonEl.style.display =\n",
              "          google.colab.kernel.accessAllowed ? 'block' : 'none';\n",
              "\n",
              "        async function convertToInteractive(key) {\n",
              "          const element = document.querySelector('#df-1dc9664e-f6eb-43d1-b28d-d74675e7988c');\n",
              "          const dataTable =\n",
              "            await google.colab.kernel.invokeFunction('convertToInteractive',\n",
              "                                                     [key], {});\n",
              "          if (!dataTable) return;\n",
              "\n",
              "          const docLinkHtml = 'Like what you see? Visit the ' +\n",
              "            '<a target=\"_blank\" href=https://colab.research.google.com/notebooks/data_table.ipynb>data table notebook</a>'\n",
              "            + ' to learn more about interactive tables.';\n",
              "          element.innerHTML = '';\n",
              "          dataTable['output_type'] = 'display_data';\n",
              "          await google.colab.output.renderOutput(dataTable, element);\n",
              "          const docLink = document.createElement('div');\n",
              "          docLink.innerHTML = docLinkHtml;\n",
              "          element.appendChild(docLink);\n",
              "        }\n",
              "      </script>\n",
              "    </div>\n",
              "  </div>\n",
              "  "
            ]
          },
          "metadata": {},
          "execution_count": 93
        }
      ]
    },
    {
      "cell_type": "code",
      "source": [
        "# Information regarding the columns within the Dataset\n",
        "descriptions = pd.read_excel(\"columns_explanation.xlsx\")\n",
        "descriptions"
      ],
      "metadata": {
        "colab": {
          "base_uri": "https://localhost:8080/",
          "height": 457
        },
        "id": "Ya-YdlWxIM9X",
        "outputId": "a1d75a78-961b-489a-8d73-be74fbff6af7"
      },
      "execution_count": 94,
      "outputs": [
        {
          "output_type": "execute_result",
          "data": {
            "text/plain": [
              "               Column name                                        explanation\n",
              "0              Postal code                 postal code of the area (in Paris)\n",
              "1                     date                        date of the row aggregation\n",
              "2      n_daily_data_points  number of daily data poinst that were availabl...\n",
              "3                dayOfWeek     identifier of weekday (0: Monday -> 6: Sunday)\n",
              "4                 day_type                                 weekday or weekend\n",
              "5       BlueCars_taken_sum    Number of bluecars taken that date in that area\n",
              "6    BlueCars_returned_sum  Number of bluecars returned that date in that ...\n",
              "7         Utilib_taken_sum      Number of Utilib taken that date in that area\n",
              "8      Utilib_returned_sum   Number of Utilib returned that date in that area\n",
              "9      Utilib_14_taken_sum  Number of Utilib 1.4 taken that date in that area\n",
              "10  Utilib_14_returned_sum  Number of Utilib 1.4 returned that date in tha...\n",
              "11         Slots_freed_sum  Number of recharging slots released that date ...\n",
              "12         Slots_taken_sum  Number of rechargign slots taken that date in ..."
            ],
            "text/html": [
              "\n",
              "  <div id=\"df-50565ade-ce76-47cc-828b-640a744006d7\">\n",
              "    <div class=\"colab-df-container\">\n",
              "      <div>\n",
              "<style scoped>\n",
              "    .dataframe tbody tr th:only-of-type {\n",
              "        vertical-align: middle;\n",
              "    }\n",
              "\n",
              "    .dataframe tbody tr th {\n",
              "        vertical-align: top;\n",
              "    }\n",
              "\n",
              "    .dataframe thead th {\n",
              "        text-align: right;\n",
              "    }\n",
              "</style>\n",
              "<table border=\"1\" class=\"dataframe\">\n",
              "  <thead>\n",
              "    <tr style=\"text-align: right;\">\n",
              "      <th></th>\n",
              "      <th>Column name</th>\n",
              "      <th>explanation</th>\n",
              "    </tr>\n",
              "  </thead>\n",
              "  <tbody>\n",
              "    <tr>\n",
              "      <th>0</th>\n",
              "      <td>Postal code</td>\n",
              "      <td>postal code of the area (in Paris)</td>\n",
              "    </tr>\n",
              "    <tr>\n",
              "      <th>1</th>\n",
              "      <td>date</td>\n",
              "      <td>date of the row aggregation</td>\n",
              "    </tr>\n",
              "    <tr>\n",
              "      <th>2</th>\n",
              "      <td>n_daily_data_points</td>\n",
              "      <td>number of daily data poinst that were availabl...</td>\n",
              "    </tr>\n",
              "    <tr>\n",
              "      <th>3</th>\n",
              "      <td>dayOfWeek</td>\n",
              "      <td>identifier of weekday (0: Monday -&gt; 6: Sunday)</td>\n",
              "    </tr>\n",
              "    <tr>\n",
              "      <th>4</th>\n",
              "      <td>day_type</td>\n",
              "      <td>weekday or weekend</td>\n",
              "    </tr>\n",
              "    <tr>\n",
              "      <th>5</th>\n",
              "      <td>BlueCars_taken_sum</td>\n",
              "      <td>Number of bluecars taken that date in that area</td>\n",
              "    </tr>\n",
              "    <tr>\n",
              "      <th>6</th>\n",
              "      <td>BlueCars_returned_sum</td>\n",
              "      <td>Number of bluecars returned that date in that ...</td>\n",
              "    </tr>\n",
              "    <tr>\n",
              "      <th>7</th>\n",
              "      <td>Utilib_taken_sum</td>\n",
              "      <td>Number of Utilib taken that date in that area</td>\n",
              "    </tr>\n",
              "    <tr>\n",
              "      <th>8</th>\n",
              "      <td>Utilib_returned_sum</td>\n",
              "      <td>Number of Utilib returned that date in that area</td>\n",
              "    </tr>\n",
              "    <tr>\n",
              "      <th>9</th>\n",
              "      <td>Utilib_14_taken_sum</td>\n",
              "      <td>Number of Utilib 1.4 taken that date in that area</td>\n",
              "    </tr>\n",
              "    <tr>\n",
              "      <th>10</th>\n",
              "      <td>Utilib_14_returned_sum</td>\n",
              "      <td>Number of Utilib 1.4 returned that date in tha...</td>\n",
              "    </tr>\n",
              "    <tr>\n",
              "      <th>11</th>\n",
              "      <td>Slots_freed_sum</td>\n",
              "      <td>Number of recharging slots released that date ...</td>\n",
              "    </tr>\n",
              "    <tr>\n",
              "      <th>12</th>\n",
              "      <td>Slots_taken_sum</td>\n",
              "      <td>Number of rechargign slots taken that date in ...</td>\n",
              "    </tr>\n",
              "  </tbody>\n",
              "</table>\n",
              "</div>\n",
              "      <button class=\"colab-df-convert\" onclick=\"convertToInteractive('df-50565ade-ce76-47cc-828b-640a744006d7')\"\n",
              "              title=\"Convert this dataframe to an interactive table.\"\n",
              "              style=\"display:none;\">\n",
              "        \n",
              "  <svg xmlns=\"http://www.w3.org/2000/svg\" height=\"24px\"viewBox=\"0 0 24 24\"\n",
              "       width=\"24px\">\n",
              "    <path d=\"M0 0h24v24H0V0z\" fill=\"none\"/>\n",
              "    <path d=\"M18.56 5.44l.94 2.06.94-2.06 2.06-.94-2.06-.94-.94-2.06-.94 2.06-2.06.94zm-11 1L8.5 8.5l.94-2.06 2.06-.94-2.06-.94L8.5 2.5l-.94 2.06-2.06.94zm10 10l.94 2.06.94-2.06 2.06-.94-2.06-.94-.94-2.06-.94 2.06-2.06.94z\"/><path d=\"M17.41 7.96l-1.37-1.37c-.4-.4-.92-.59-1.43-.59-.52 0-1.04.2-1.43.59L10.3 9.45l-7.72 7.72c-.78.78-.78 2.05 0 2.83L4 21.41c.39.39.9.59 1.41.59.51 0 1.02-.2 1.41-.59l7.78-7.78 2.81-2.81c.8-.78.8-2.07 0-2.86zM5.41 20L4 18.59l7.72-7.72 1.47 1.35L5.41 20z\"/>\n",
              "  </svg>\n",
              "      </button>\n",
              "      \n",
              "  <style>\n",
              "    .colab-df-container {\n",
              "      display:flex;\n",
              "      flex-wrap:wrap;\n",
              "      gap: 12px;\n",
              "    }\n",
              "\n",
              "    .colab-df-convert {\n",
              "      background-color: #E8F0FE;\n",
              "      border: none;\n",
              "      border-radius: 50%;\n",
              "      cursor: pointer;\n",
              "      display: none;\n",
              "      fill: #1967D2;\n",
              "      height: 32px;\n",
              "      padding: 0 0 0 0;\n",
              "      width: 32px;\n",
              "    }\n",
              "\n",
              "    .colab-df-convert:hover {\n",
              "      background-color: #E2EBFA;\n",
              "      box-shadow: 0px 1px 2px rgba(60, 64, 67, 0.3), 0px 1px 3px 1px rgba(60, 64, 67, 0.15);\n",
              "      fill: #174EA6;\n",
              "    }\n",
              "\n",
              "    [theme=dark] .colab-df-convert {\n",
              "      background-color: #3B4455;\n",
              "      fill: #D2E3FC;\n",
              "    }\n",
              "\n",
              "    [theme=dark] .colab-df-convert:hover {\n",
              "      background-color: #434B5C;\n",
              "      box-shadow: 0px 1px 3px 1px rgba(0, 0, 0, 0.15);\n",
              "      filter: drop-shadow(0px 1px 2px rgba(0, 0, 0, 0.3));\n",
              "      fill: #FFFFFF;\n",
              "    }\n",
              "  </style>\n",
              "\n",
              "      <script>\n",
              "        const buttonEl =\n",
              "          document.querySelector('#df-50565ade-ce76-47cc-828b-640a744006d7 button.colab-df-convert');\n",
              "        buttonEl.style.display =\n",
              "          google.colab.kernel.accessAllowed ? 'block' : 'none';\n",
              "\n",
              "        async function convertToInteractive(key) {\n",
              "          const element = document.querySelector('#df-50565ade-ce76-47cc-828b-640a744006d7');\n",
              "          const dataTable =\n",
              "            await google.colab.kernel.invokeFunction('convertToInteractive',\n",
              "                                                     [key], {});\n",
              "          if (!dataTable) return;\n",
              "\n",
              "          const docLinkHtml = 'Like what you see? Visit the ' +\n",
              "            '<a target=\"_blank\" href=https://colab.research.google.com/notebooks/data_table.ipynb>data table notebook</a>'\n",
              "            + ' to learn more about interactive tables.';\n",
              "          element.innerHTML = '';\n",
              "          dataTable['output_type'] = 'display_data';\n",
              "          await google.colab.output.renderOutput(dataTable, element);\n",
              "          const docLink = document.createElement('div');\n",
              "          docLink.innerHTML = docLinkHtml;\n",
              "          element.appendChild(docLink);\n",
              "        }\n",
              "      </script>\n",
              "    </div>\n",
              "  </div>\n",
              "  "
            ]
          },
          "metadata": {},
          "execution_count": 94
        }
      ]
    },
    {
      "cell_type": "markdown",
      "source": [
        "# Exploring the Dataset"
      ],
      "metadata": {
        "id": "C2gIGGr1JOCw"
      }
    },
    {
      "cell_type": "code",
      "source": [
        "df.info()"
      ],
      "metadata": {
        "colab": {
          "base_uri": "https://localhost:8080/"
        },
        "id": "VkTW3w1pIiPh",
        "outputId": "d3903f26-d443-42b2-a32c-e5540d3706a9"
      },
      "execution_count": 95,
      "outputs": [
        {
          "output_type": "stream",
          "name": "stdout",
          "text": [
            "<class 'pandas.core.frame.DataFrame'>\n",
            "RangeIndex: 16085 entries, 0 to 16084\n",
            "Data columns (total 13 columns):\n",
            " #   Column                  Non-Null Count  Dtype \n",
            "---  ------                  --------------  ----- \n",
            " 0   Postal code             16085 non-null  int64 \n",
            " 1   date                    16085 non-null  object\n",
            " 2   n_daily_data_points     16085 non-null  int64 \n",
            " 3   dayOfWeek               16085 non-null  int64 \n",
            " 4   day_type                16085 non-null  object\n",
            " 5   BlueCars_taken_sum      16085 non-null  int64 \n",
            " 6   BlueCars_returned_sum   16085 non-null  int64 \n",
            " 7   Utilib_taken_sum        16085 non-null  int64 \n",
            " 8   Utilib_returned_sum     16085 non-null  int64 \n",
            " 9   Utilib_14_taken_sum     16085 non-null  int64 \n",
            " 10  Utilib_14_returned_sum  16085 non-null  int64 \n",
            " 11  Slots_freed_sum         16085 non-null  int64 \n",
            " 12  Slots_taken_sum         16085 non-null  int64 \n",
            "dtypes: int64(11), object(2)\n",
            "memory usage: 1.6+ MB\n"
          ]
        }
      ]
    },
    {
      "cell_type": "code",
      "source": [
        "# determining the number of records in the dataset\n",
        "df.shape"
      ],
      "metadata": {
        "colab": {
          "base_uri": "https://localhost:8080/"
        },
        "id": "1GkjR7dUIjpv",
        "outputId": "aff3cd35-49c3-4d1d-dabf-2fb4fb895421"
      },
      "execution_count": 96,
      "outputs": [
        {
          "output_type": "execute_result",
          "data": {
            "text/plain": [
              "(16085, 13)"
            ]
          },
          "metadata": {},
          "execution_count": 96
        }
      ]
    },
    {
      "cell_type": "markdown",
      "source": [
        "### Accuracy"
      ],
      "metadata": {
        "id": "6qqZpxxFRLIC"
      }
    },
    {
      "cell_type": "code",
      "source": [
        "# Checking that the columns given are all correct.\n",
        "# For instance in the Day Of Week column , the values should range from 0-6.\n",
        "df.dayOfWeek.unique()"
      ],
      "metadata": {
        "colab": {
          "base_uri": "https://localhost:8080/"
        },
        "id": "5UUq1Pe7ROOp",
        "outputId": "fbab58ad-dd33-4c26-d656-0e551d9d0cdd"
      },
      "execution_count": 97,
      "outputs": [
        {
          "output_type": "execute_result",
          "data": {
            "text/plain": [
              "array([0, 1, 2, 3, 4, 5, 6])"
            ]
          },
          "metadata": {},
          "execution_count": 97
        }
      ]
    },
    {
      "cell_type": "markdown",
      "source": [
        "### Completeness"
      ],
      "metadata": {
        "id": "bsyGnoPqNG-P"
      }
    },
    {
      "cell_type": "code",
      "source": [
        "# checking for null values\n",
        "df.isna().sum().sum()"
      ],
      "metadata": {
        "colab": {
          "base_uri": "https://localhost:8080/"
        },
        "id": "-gEu8cifJd_g",
        "outputId": "82c2e0ce-38ec-46e3-d3b5-98c3401ca4bd"
      },
      "execution_count": 98,
      "outputs": [
        {
          "output_type": "execute_result",
          "data": {
            "text/plain": [
              "0"
            ]
          },
          "metadata": {},
          "execution_count": 98
        }
      ]
    },
    {
      "cell_type": "markdown",
      "source": [
        "### Consistency"
      ],
      "metadata": {
        "id": "Ib98bgPjNKos"
      }
    },
    {
      "cell_type": "code",
      "source": [
        "# checking for duplicates\n",
        "df.duplicated().any()"
      ],
      "metadata": {
        "colab": {
          "base_uri": "https://localhost:8080/"
        },
        "id": "4kSHDOzLJgfT",
        "outputId": "cccdbde1-d322-4d79-85b1-525e52f9c190"
      },
      "execution_count": 99,
      "outputs": [
        {
          "output_type": "execute_result",
          "data": {
            "text/plain": [
              "False"
            ]
          },
          "metadata": {},
          "execution_count": 99
        }
      ]
    },
    {
      "cell_type": "code",
      "source": [
        "# Checking for Outliers\n",
        "# quantiles\n",
        "Q1 = df.quantile(0.25)\n",
        "Q3 = df.quantile(0.75)\n",
        "IQR = Q3 - Q1\n",
        "\n",
        "# Removing outliers based on the IQR range and stores the result in the data frame 'df_out' \n",
        "df1 = df[~((df < (Q1 - 1.5 * IQR)) | (df > (Q3 + 1.5 * IQR))).any(axis=1)]\n",
        "\n",
        "# Printing the shape of our new dataset without outliers\n",
        "print(df1.shape)\n",
        "\n",
        "# Printing the shape of our old dataset with outliers\n",
        "print(df.shape)"
      ],
      "metadata": {
        "colab": {
          "base_uri": "https://localhost:8080/"
        },
        "id": "5sclT2ZlNxcN",
        "outputId": "a77d0ebf-ee61-4c24-90cf-095e2524eb60"
      },
      "execution_count": 100,
      "outputs": [
        {
          "output_type": "stream",
          "name": "stdout",
          "text": [
            "(9783, 13)\n",
            "(16085, 13)\n"
          ]
        }
      ]
    },
    {
      "cell_type": "markdown",
      "source": [
        "### Uniformity"
      ],
      "metadata": {
        "id": "OXqHpXe_QJOD"
      }
    },
    {
      "cell_type": "code",
      "source": [
        "df1.columns"
      ],
      "metadata": {
        "colab": {
          "base_uri": "https://localhost:8080/"
        },
        "id": "llkuYOGIJ-hS",
        "outputId": "61cf5d1d-6d58-4ece-ef95-9a0c140acc33"
      },
      "execution_count": 101,
      "outputs": [
        {
          "output_type": "execute_result",
          "data": {
            "text/plain": [
              "Index(['Postal code', 'date', 'n_daily_data_points', 'dayOfWeek', 'day_type',\n",
              "       'BlueCars_taken_sum', 'BlueCars_returned_sum', 'Utilib_taken_sum',\n",
              "       'Utilib_returned_sum', 'Utilib_14_taken_sum', 'Utilib_14_returned_sum',\n",
              "       'Slots_freed_sum', 'Slots_taken_sum'],\n",
              "      dtype='object')"
            ]
          },
          "metadata": {},
          "execution_count": 101
        }
      ]
    },
    {
      "cell_type": "code",
      "source": [
        "# Modifying column names to lower case and placing underscores for consistency\n",
        "df1.columns = df1.columns.str.strip().str.lower().str.replace(' ', '_').str.replace('(', '').str.replace(')', '')\n",
        "df1.columns"
      ],
      "metadata": {
        "id": "2PURx58ULNsM",
        "colab": {
          "base_uri": "https://localhost:8080/"
        },
        "outputId": "87487e7e-79bf-42c8-f025-a031defb58f5"
      },
      "execution_count": 102,
      "outputs": [
        {
          "output_type": "execute_result",
          "data": {
            "text/plain": [
              "Index(['postal_code', 'date', 'n_daily_data_points', 'dayofweek', 'day_type',\n",
              "       'bluecars_taken_sum', 'bluecars_returned_sum', 'utilib_taken_sum',\n",
              "       'utilib_returned_sum', 'utilib_14_taken_sum', 'utilib_14_returned_sum',\n",
              "       'slots_freed_sum', 'slots_taken_sum'],\n",
              "      dtype='object')"
            ]
          },
          "metadata": {},
          "execution_count": 102
        }
      ]
    },
    {
      "cell_type": "markdown",
      "source": [
        "# EXPLORATORY DATA ANALYSIS"
      ],
      "metadata": {
        "id": "Lac9ZRM9M9L4"
      }
    },
    {
      "cell_type": "markdown",
      "source": [
        "## Univariate Analysis"
      ],
      "metadata": {
        "id": "cxPmqGzPOjtD"
      }
    },
    {
      "cell_type": "code",
      "source": [
        "# Numerical variables\n",
        "df1[['bluecars_taken_sum','bluecars_returned_sum']].describe()"
      ],
      "metadata": {
        "colab": {
          "base_uri": "https://localhost:8080/",
          "height": 300
        },
        "id": "1tiWuPc81Hd4",
        "outputId": "893726e4-bf4f-4a95-8f6c-50396389d5e7"
      },
      "execution_count": 103,
      "outputs": [
        {
          "output_type": "execute_result",
          "data": {
            "text/plain": [
              "       bluecars_taken_sum  bluecars_returned_sum\n",
              "count         9783.000000            9783.000000\n",
              "mean            49.242870              49.222324\n",
              "std             46.303795              46.223838\n",
              "min              0.000000               0.000000\n",
              "25%             17.000000              17.000000\n",
              "50%             34.000000              34.000000\n",
              "75%             67.000000              67.000000\n",
              "max            293.000000             301.000000"
            ],
            "text/html": [
              "\n",
              "  <div id=\"df-184a50de-d4cd-4c87-bbe9-47b22d33f6f9\">\n",
              "    <div class=\"colab-df-container\">\n",
              "      <div>\n",
              "<style scoped>\n",
              "    .dataframe tbody tr th:only-of-type {\n",
              "        vertical-align: middle;\n",
              "    }\n",
              "\n",
              "    .dataframe tbody tr th {\n",
              "        vertical-align: top;\n",
              "    }\n",
              "\n",
              "    .dataframe thead th {\n",
              "        text-align: right;\n",
              "    }\n",
              "</style>\n",
              "<table border=\"1\" class=\"dataframe\">\n",
              "  <thead>\n",
              "    <tr style=\"text-align: right;\">\n",
              "      <th></th>\n",
              "      <th>bluecars_taken_sum</th>\n",
              "      <th>bluecars_returned_sum</th>\n",
              "    </tr>\n",
              "  </thead>\n",
              "  <tbody>\n",
              "    <tr>\n",
              "      <th>count</th>\n",
              "      <td>9783.000000</td>\n",
              "      <td>9783.000000</td>\n",
              "    </tr>\n",
              "    <tr>\n",
              "      <th>mean</th>\n",
              "      <td>49.242870</td>\n",
              "      <td>49.222324</td>\n",
              "    </tr>\n",
              "    <tr>\n",
              "      <th>std</th>\n",
              "      <td>46.303795</td>\n",
              "      <td>46.223838</td>\n",
              "    </tr>\n",
              "    <tr>\n",
              "      <th>min</th>\n",
              "      <td>0.000000</td>\n",
              "      <td>0.000000</td>\n",
              "    </tr>\n",
              "    <tr>\n",
              "      <th>25%</th>\n",
              "      <td>17.000000</td>\n",
              "      <td>17.000000</td>\n",
              "    </tr>\n",
              "    <tr>\n",
              "      <th>50%</th>\n",
              "      <td>34.000000</td>\n",
              "      <td>34.000000</td>\n",
              "    </tr>\n",
              "    <tr>\n",
              "      <th>75%</th>\n",
              "      <td>67.000000</td>\n",
              "      <td>67.000000</td>\n",
              "    </tr>\n",
              "    <tr>\n",
              "      <th>max</th>\n",
              "      <td>293.000000</td>\n",
              "      <td>301.000000</td>\n",
              "    </tr>\n",
              "  </tbody>\n",
              "</table>\n",
              "</div>\n",
              "      <button class=\"colab-df-convert\" onclick=\"convertToInteractive('df-184a50de-d4cd-4c87-bbe9-47b22d33f6f9')\"\n",
              "              title=\"Convert this dataframe to an interactive table.\"\n",
              "              style=\"display:none;\">\n",
              "        \n",
              "  <svg xmlns=\"http://www.w3.org/2000/svg\" height=\"24px\"viewBox=\"0 0 24 24\"\n",
              "       width=\"24px\">\n",
              "    <path d=\"M0 0h24v24H0V0z\" fill=\"none\"/>\n",
              "    <path d=\"M18.56 5.44l.94 2.06.94-2.06 2.06-.94-2.06-.94-.94-2.06-.94 2.06-2.06.94zm-11 1L8.5 8.5l.94-2.06 2.06-.94-2.06-.94L8.5 2.5l-.94 2.06-2.06.94zm10 10l.94 2.06.94-2.06 2.06-.94-2.06-.94-.94-2.06-.94 2.06-2.06.94z\"/><path d=\"M17.41 7.96l-1.37-1.37c-.4-.4-.92-.59-1.43-.59-.52 0-1.04.2-1.43.59L10.3 9.45l-7.72 7.72c-.78.78-.78 2.05 0 2.83L4 21.41c.39.39.9.59 1.41.59.51 0 1.02-.2 1.41-.59l7.78-7.78 2.81-2.81c.8-.78.8-2.07 0-2.86zM5.41 20L4 18.59l7.72-7.72 1.47 1.35L5.41 20z\"/>\n",
              "  </svg>\n",
              "      </button>\n",
              "      \n",
              "  <style>\n",
              "    .colab-df-container {\n",
              "      display:flex;\n",
              "      flex-wrap:wrap;\n",
              "      gap: 12px;\n",
              "    }\n",
              "\n",
              "    .colab-df-convert {\n",
              "      background-color: #E8F0FE;\n",
              "      border: none;\n",
              "      border-radius: 50%;\n",
              "      cursor: pointer;\n",
              "      display: none;\n",
              "      fill: #1967D2;\n",
              "      height: 32px;\n",
              "      padding: 0 0 0 0;\n",
              "      width: 32px;\n",
              "    }\n",
              "\n",
              "    .colab-df-convert:hover {\n",
              "      background-color: #E2EBFA;\n",
              "      box-shadow: 0px 1px 2px rgba(60, 64, 67, 0.3), 0px 1px 3px 1px rgba(60, 64, 67, 0.15);\n",
              "      fill: #174EA6;\n",
              "    }\n",
              "\n",
              "    [theme=dark] .colab-df-convert {\n",
              "      background-color: #3B4455;\n",
              "      fill: #D2E3FC;\n",
              "    }\n",
              "\n",
              "    [theme=dark] .colab-df-convert:hover {\n",
              "      background-color: #434B5C;\n",
              "      box-shadow: 0px 1px 3px 1px rgba(0, 0, 0, 0.15);\n",
              "      filter: drop-shadow(0px 1px 2px rgba(0, 0, 0, 0.3));\n",
              "      fill: #FFFFFF;\n",
              "    }\n",
              "  </style>\n",
              "\n",
              "      <script>\n",
              "        const buttonEl =\n",
              "          document.querySelector('#df-184a50de-d4cd-4c87-bbe9-47b22d33f6f9 button.colab-df-convert');\n",
              "        buttonEl.style.display =\n",
              "          google.colab.kernel.accessAllowed ? 'block' : 'none';\n",
              "\n",
              "        async function convertToInteractive(key) {\n",
              "          const element = document.querySelector('#df-184a50de-d4cd-4c87-bbe9-47b22d33f6f9');\n",
              "          const dataTable =\n",
              "            await google.colab.kernel.invokeFunction('convertToInteractive',\n",
              "                                                     [key], {});\n",
              "          if (!dataTable) return;\n",
              "\n",
              "          const docLinkHtml = 'Like what you see? Visit the ' +\n",
              "            '<a target=\"_blank\" href=https://colab.research.google.com/notebooks/data_table.ipynb>data table notebook</a>'\n",
              "            + ' to learn more about interactive tables.';\n",
              "          element.innerHTML = '';\n",
              "          dataTable['output_type'] = 'display_data';\n",
              "          await google.colab.output.renderOutput(dataTable, element);\n",
              "          const docLink = document.createElement('div');\n",
              "          docLink.innerHTML = docLinkHtml;\n",
              "          element.appendChild(docLink);\n",
              "        }\n",
              "      </script>\n",
              "    </div>\n",
              "  </div>\n",
              "  "
            ]
          },
          "metadata": {},
          "execution_count": 103
        }
      ]
    },
    {
      "cell_type": "code",
      "source": [
        "sns.boxplot(df1['bluecars_taken_sum'],color='green', showmeans=True)"
      ],
      "metadata": {
        "colab": {
          "base_uri": "https://localhost:8080/",
          "height": 298
        },
        "id": "TIpSifhTNljL",
        "outputId": "4700f040-c452-439b-e10f-0f452c100639"
      },
      "execution_count": 104,
      "outputs": [
        {
          "output_type": "execute_result",
          "data": {
            "text/plain": [
              "<matplotlib.axes._subplots.AxesSubplot at 0x7f0347e08550>"
            ]
          },
          "metadata": {},
          "execution_count": 104
        },
        {
          "output_type": "display_data",
          "data": {
            "text/plain": [
              "<Figure size 432x288 with 1 Axes>"
            ],
            "image/png": "[encoded data removed]"
          },
          "metadata": {
            "needs_background": "light"
          }
        }
      ]
    },
    {
      "cell_type": "code",
      "source": [
        "# Plotting bluecars taken\n",
        "sns.distplot(df1['bluecars_taken_sum'], bins=10)\n",
        "plt.title('Blue cars taken')"
      ],
      "metadata": {
        "colab": {
          "base_uri": "https://localhost:8080/",
          "height": 314
        },
        "id": "rpyaPlz-10Dv",
        "outputId": "c6fa61fe-2019-4a7d-8dd5-3cbbb0b4f92f"
      },
      "execution_count": 105,
      "outputs": [
        {
          "output_type": "execute_result",
          "data": {
            "text/plain": [
              "Text(0.5, 1.0, 'Blue cars taken')"
            ]
          },
          "metadata": {},
          "execution_count": 105
        },
        {
          "output_type": "display_data",
          "data": {
            "text/plain": [
              "<Figure size 432x288 with 1 Axes>"
            ],
            "image/png": "[encoded data removed]"
          },
          "metadata": {
            "needs_background": "light"
          }
        }
      ]
    },
    {
      "cell_type": "code",
      "source": [
        "# Box plot for sum of blue cars returned\n",
        "sns.boxplot(df1['bluecars_returned_sum'], color='blue',showmeans=True)"
      ],
      "metadata": {
        "colab": {
          "base_uri": "https://localhost:8080/",
          "height": 298
        },
        "id": "YxKJOXURNABl",
        "outputId": "9875d7c8-e082-493b-ca33-f6d760216d71"
      },
      "execution_count": 106,
      "outputs": [
        {
          "output_type": "execute_result",
          "data": {
            "text/plain": [
              "<matplotlib.axes._subplots.AxesSubplot at 0x7f0347d01990>"
            ]
          },
          "metadata": {},
          "execution_count": 106
        },
        {
          "output_type": "display_data",
          "data": {
            "text/plain": [
              "<Figure size 432x288 with 1 Axes>"
            ],
            "image/png": "[encoded data removed]"
          },
          "metadata": {
            "needs_background": "light"
          }
        }
      ]
    },
    {
      "cell_type": "code",
      "source": [
        "# Plot bluecars returned \n",
        "sns.distplot(df1['bluecars_returned_sum'], bins=10)\n",
        "plt.title('distribution of blue cars returned')"
      ],
      "metadata": {
        "colab": {
          "base_uri": "https://localhost:8080/",
          "height": 314
        },
        "id": "P0YO6ReS2Y7C",
        "outputId": "d84754cb-bd88-44dc-a8b1-620269a87e8c"
      },
      "execution_count": 107,
      "outputs": [
        {
          "output_type": "execute_result",
          "data": {
            "text/plain": [
              "Text(0.5, 1.0, 'distribution of blue cars returned')"
            ]
          },
          "metadata": {},
          "execution_count": 107
        },
        {
          "output_type": "display_data",
          "data": {
            "text/plain": [
              "<Figure size 432x288 with 1 Axes>"
            ],
            "image/png": "[encoded data removed]"
          },
          "metadata": {
            "needs_background": "light"
          }
        }
      ]
    },
    {
      "cell_type": "code",
      "source": [
        "df1[['bluecars_taken_sum','bluecars_returned_sum']].skew()"
      ],
      "metadata": {
        "colab": {
          "base_uri": "https://localhost:8080/"
        },
        "id": "rRTx6D2-2kY4",
        "outputId": "cdf04545-f417-41e8-9167-98d156655376"
      },
      "execution_count": 108,
      "outputs": [
        {
          "output_type": "execute_result",
          "data": {
            "text/plain": [
              "bluecars_taken_sum       1.791195\n",
              "bluecars_returned_sum    1.797422\n",
              "dtype: float64"
            ]
          },
          "metadata": {},
          "execution_count": 108
        }
      ]
    },
    {
      "cell_type": "code",
      "source": [
        "df1[['bluecars_taken_sum','bluecars_returned_sum']].kurt()"
      ],
      "metadata": {
        "id": "AIru5gue3BvN",
        "colab": {
          "base_uri": "https://localhost:8080/"
        },
        "outputId": "dedd88ea-2682-4e99-a30a-e52395d2367c"
      },
      "execution_count": 109,
      "outputs": [
        {
          "output_type": "execute_result",
          "data": {
            "text/plain": [
              "bluecars_taken_sum       3.910795\n",
              "bluecars_returned_sum    3.918840\n",
              "dtype: float64"
            ]
          },
          "metadata": {},
          "execution_count": 109
        }
      ]
    },
    {
      "cell_type": "markdown",
      "source": [
        "\n",
        "- The BlueCars columns were both very highly skewed with the Blue_Cars taken \n",
        "having a skewness of 1.791 and the returned having a skew of 1.797\n",
        "\n",
        "- They both had very heavy tails with a kurtosis value of 3.918 and 3.910 for the Returned and Taken columns respectively.\n",
        "\n",
        "The outliers in the dataset might have caused these anomalies but that is still subject to further scrutiny."
      ],
      "metadata": {
        "id": "pDVT22WaOnvE"
      }
    },
    {
      "cell_type": "code",
      "source": [
        "df1[['utilib_taken_sum','utilib_returned_sum']].describe()"
      ],
      "metadata": {
        "id": "OFOEMrtH53Wy",
        "colab": {
          "base_uri": "https://localhost:8080/",
          "height": 300
        },
        "outputId": "199b3217-1a45-4e72-b253-38926dc0290c"
      },
      "execution_count": 110,
      "outputs": [
        {
          "output_type": "execute_result",
          "data": {
            "text/plain": [
              "       utilib_taken_sum  utilib_returned_sum\n",
              "count       9783.000000          9783.000000\n",
              "mean           1.498518             1.494327\n",
              "std            1.909304             1.891761\n",
              "min            0.000000             0.000000\n",
              "25%            0.000000             0.000000\n",
              "50%            1.000000             1.000000\n",
              "75%            2.000000             2.000000\n",
              "max           10.000000            10.000000"
            ],
            "text/html": [
              "\n",
              "  <div id=\"df-b60f90ae-015d-46a0-8cfb-0feb306d911c\">\n",
              "    <div class=\"colab-df-container\">\n",
              "      <div>\n",
              "<style scoped>\n",
              "    .dataframe tbody tr th:only-of-type {\n",
              "        vertical-align: middle;\n",
              "    }\n",
              "\n",
              "    .dataframe tbody tr th {\n",
              "        vertical-align: top;\n",
              "    }\n",
              "\n",
              "    .dataframe thead th {\n",
              "        text-align: right;\n",
              "    }\n",
              "</style>\n",
              "<table border=\"1\" class=\"dataframe\">\n",
              "  <thead>\n",
              "    <tr style=\"text-align: right;\">\n",
              "      <th></th>\n",
              "      <th>utilib_taken_sum</th>\n",
              "      <th>utilib_returned_sum</th>\n",
              "    </tr>\n",
              "  </thead>\n",
              "  <tbody>\n",
              "    <tr>\n",
              "      <th>count</th>\n",
              "      <td>9783.000000</td>\n",
              "      <td>9783.000000</td>\n",
              "    </tr>\n",
              "    <tr>\n",
              "      <th>mean</th>\n",
              "      <td>1.498518</td>\n",
              "      <td>1.494327</td>\n",
              "    </tr>\n",
              "    <tr>\n",
              "      <th>std</th>\n",
              "      <td>1.909304</td>\n",
              "      <td>1.891761</td>\n",
              "    </tr>\n",
              "    <tr>\n",
              "      <th>min</th>\n",
              "      <td>0.000000</td>\n",
              "      <td>0.000000</td>\n",
              "    </tr>\n",
              "    <tr>\n",
              "      <th>25%</th>\n",
              "      <td>0.000000</td>\n",
              "      <td>0.000000</td>\n",
              "    </tr>\n",
              "    <tr>\n",
              "      <th>50%</th>\n",
              "      <td>1.000000</td>\n",
              "      <td>1.000000</td>\n",
              "    </tr>\n",
              "    <tr>\n",
              "      <th>75%</th>\n",
              "      <td>2.000000</td>\n",
              "      <td>2.000000</td>\n",
              "    </tr>\n",
              "    <tr>\n",
              "      <th>max</th>\n",
              "      <td>10.000000</td>\n",
              "      <td>10.000000</td>\n",
              "    </tr>\n",
              "  </tbody>\n",
              "</table>\n",
              "</div>\n",
              "      <button class=\"colab-df-convert\" onclick=\"convertToInteractive('df-b60f90ae-015d-46a0-8cfb-0feb306d911c')\"\n",
              "              title=\"Convert this dataframe to an interactive table.\"\n",
              "              style=\"display:none;\">\n",
              "        \n",
              "  <svg xmlns=\"http://www.w3.org/2000/svg\" height=\"24px\"viewBox=\"0 0 24 24\"\n",
              "       width=\"24px\">\n",
              "    <path d=\"M0 0h24v24H0V0z\" fill=\"none\"/>\n",
              "    <path d=\"M18.56 5.44l.94 2.06.94-2.06 2.06-.94-2.06-.94-.94-2.06-.94 2.06-2.06.94zm-11 1L8.5 8.5l.94-2.06 2.06-.94-2.06-.94L8.5 2.5l-.94 2.06-2.06.94zm10 10l.94 2.06.94-2.06 2.06-.94-2.06-.94-.94-2.06-.94 2.06-2.06.94z\"/><path d=\"M17.41 7.96l-1.37-1.37c-.4-.4-.92-.59-1.43-.59-.52 0-1.04.2-1.43.59L10.3 9.45l-7.72 7.72c-.78.78-.78 2.05 0 2.83L4 21.41c.39.39.9.59 1.41.59.51 0 1.02-.2 1.41-.59l7.78-7.78 2.81-2.81c.8-.78.8-2.07 0-2.86zM5.41 20L4 18.59l7.72-7.72 1.47 1.35L5.41 20z\"/>\n",
              "  </svg>\n",
              "      </button>\n",
              "      \n",
              "  <style>\n",
              "    .colab-df-container {\n",
              "      display:flex;\n",
              "      flex-wrap:wrap;\n",
              "      gap: 12px;\n",
              "    }\n",
              "\n",
              "    .colab-df-convert {\n",
              "      background-color: #E8F0FE;\n",
              "      border: none;\n",
              "      border-radius: 50%;\n",
              "      cursor: pointer;\n",
              "      display: none;\n",
              "      fill: #1967D2;\n",
              "      height: 32px;\n",
              "      padding: 0 0 0 0;\n",
              "      width: 32px;\n",
              "    }\n",
              "\n",
              "    .colab-df-convert:hover {\n",
              "      background-color: #E2EBFA;\n",
              "      box-shadow: 0px 1px 2px rgba(60, 64, 67, 0.3), 0px 1px 3px 1px rgba(60, 64, 67, 0.15);\n",
              "      fill: #174EA6;\n",
              "    }\n",
              "\n",
              "    [theme=dark] .colab-df-convert {\n",
              "      background-color: #3B4455;\n",
              "      fill: #D2E3FC;\n",
              "    }\n",
              "\n",
              "    [theme=dark] .colab-df-convert:hover {\n",
              "      background-color: #434B5C;\n",
              "      box-shadow: 0px 1px 3px 1px rgba(0, 0, 0, 0.15);\n",
              "      filter: drop-shadow(0px 1px 2px rgba(0, 0, 0, 0.3));\n",
              "      fill: #FFFFFF;\n",
              "    }\n",
              "  </style>\n",
              "\n",
              "      <script>\n",
              "        const buttonEl =\n",
              "          document.querySelector('#df-b60f90ae-015d-46a0-8cfb-0feb306d911c button.colab-df-convert');\n",
              "        buttonEl.style.display =\n",
              "          google.colab.kernel.accessAllowed ? 'block' : 'none';\n",
              "\n",
              "        async function convertToInteractive(key) {\n",
              "          const element = document.querySelector('#df-b60f90ae-015d-46a0-8cfb-0feb306d911c');\n",
              "          const dataTable =\n",
              "            await google.colab.kernel.invokeFunction('convertToInteractive',\n",
              "                                                     [key], {});\n",
              "          if (!dataTable) return;\n",
              "\n",
              "          const docLinkHtml = 'Like what you see? Visit the ' +\n",
              "            '<a target=\"_blank\" href=https://colab.research.google.com/notebooks/data_table.ipynb>data table notebook</a>'\n",
              "            + ' to learn more about interactive tables.';\n",
              "          element.innerHTML = '';\n",
              "          dataTable['output_type'] = 'display_data';\n",
              "          await google.colab.output.renderOutput(dataTable, element);\n",
              "          const docLink = document.createElement('div');\n",
              "          docLink.innerHTML = docLinkHtml;\n",
              "          element.appendChild(docLink);\n",
              "        }\n",
              "      </script>\n",
              "    </div>\n",
              "  </div>\n",
              "  "
            ]
          },
          "metadata": {},
          "execution_count": 110
        }
      ]
    },
    {
      "cell_type": "code",
      "source": [
        "sns.boxplot(data=df1[['utilib_taken_sum','utilib_returned_sum']])\n"
      ],
      "metadata": {
        "colab": {
          "base_uri": "https://localhost:8080/",
          "height": 284
        },
        "id": "Md6ZTKzP-632",
        "outputId": "4167eeb1-d20e-489b-f870-fa041c91bbc4"
      },
      "execution_count": 111,
      "outputs": [
        {
          "output_type": "execute_result",
          "data": {
            "text/plain": [
              "<matplotlib.axes._subplots.AxesSubplot at 0x7f0347c9abd0>"
            ]
          },
          "metadata": {},
          "execution_count": 111
        },
        {
          "output_type": "display_data",
          "data": {
            "text/plain": [
              "<Figure size 432x288 with 1 Axes>"
            ],
            "image/png": "[encoded data removed]"
          },
          "metadata": {
            "needs_background": "light"
          }
        }
      ]
    },
    {
      "cell_type": "code",
      "source": [
        "sns.distplot(df1['utilib_taken_sum'], bins=10)\n",
        "plt.title('Utilib Taken Sum')"
      ],
      "metadata": {
        "id": "z-GNgvVJ5M4k",
        "colab": {
          "base_uri": "https://localhost:8080/",
          "height": 314
        },
        "outputId": "4207bc56-233e-4212-951b-2cbf7e07b4cb"
      },
      "execution_count": 112,
      "outputs": [
        {
          "output_type": "execute_result",
          "data": {
            "text/plain": [
              "Text(0.5, 1.0, 'Utilib Taken Sum')"
            ]
          },
          "metadata": {},
          "execution_count": 112
        },
        {
          "output_type": "display_data",
          "data": {
            "text/plain": [
              "<Figure size 432x288 with 1 Axes>"
            ],
            "image/png": "[encoded data removed]"
          },
          "metadata": {
            "needs_background": "light"
          }
        }
      ]
    },
    {
      "cell_type": "code",
      "source": [
        "sns.distplot(df1['utilib_returned_sum'], bins=10)\n",
        "plt.title('Utilib Returned Sum')"
      ],
      "metadata": {
        "id": "En8sYRAL5u32",
        "colab": {
          "base_uri": "https://localhost:8080/",
          "height": 314
        },
        "outputId": "ccf695a6-c296-4a82-f88c-7700a2a04316"
      },
      "execution_count": 113,
      "outputs": [
        {
          "output_type": "execute_result",
          "data": {
            "text/plain": [
              "Text(0.5, 1.0, 'Utilib Returned Sum')"
            ]
          },
          "metadata": {},
          "execution_count": 113
        },
        {
          "output_type": "display_data",
          "data": {
            "text/plain": [
              "<Figure size 432x288 with 1 Axes>"
            ],
            "image/png": "[encoded data removed]"
          },
          "metadata": {
            "needs_background": "light"
          }
        }
      ]
    },
    {
      "cell_type": "code",
      "source": [
        "df1[['utilib_taken_sum','utilib_returned_sum']].skew()"
      ],
      "metadata": {
        "id": "xDtQHP_y6Pp9",
        "colab": {
          "base_uri": "https://localhost:8080/"
        },
        "outputId": "df65c209-8286-4145-db42-ac321d36f7f8"
      },
      "execution_count": 114,
      "outputs": [
        {
          "output_type": "execute_result",
          "data": {
            "text/plain": [
              "utilib_taken_sum       1.652089\n",
              "utilib_returned_sum    1.653366\n",
              "dtype: float64"
            ]
          },
          "metadata": {},
          "execution_count": 114
        }
      ]
    },
    {
      "cell_type": "code",
      "source": [
        "df1[['utilib_taken_sum','utilib_returned_sum']].kurt()"
      ],
      "metadata": {
        "id": "NKPpqQam6YOa",
        "colab": {
          "base_uri": "https://localhost:8080/"
        },
        "outputId": "034f7de5-6c0e-4d79-c639-6ad5861e6175"
      },
      "execution_count": 115,
      "outputs": [
        {
          "output_type": "execute_result",
          "data": {
            "text/plain": [
              "utilib_taken_sum       2.685229\n",
              "utilib_returned_sum    2.726885\n",
              "dtype: float64"
            ]
          },
          "metadata": {},
          "execution_count": 115
        }
      ]
    },
    {
      "cell_type": "markdown",
      "source": [
        "Utilib taken sum and utilib returned sum are both highly skewed having lighter tails with a kurtosis value of 2.7 and skewness of 1.6"
      ],
      "metadata": {
        "id": "3et3uk-JLvr1"
      }
    },
    {
      "cell_type": "code",
      "source": [
        "sns.boxplot(data=df1[['utilib_14_taken_sum','utilib_14_returned_sum']])"
      ],
      "metadata": {
        "colab": {
          "base_uri": "https://localhost:8080/",
          "height": 284
        },
        "id": "VNIV4QGl_lNV",
        "outputId": "f02ae9cf-edfc-42ac-85a4-feff34d9ae4e"
      },
      "execution_count": 116,
      "outputs": [
        {
          "output_type": "execute_result",
          "data": {
            "text/plain": [
              "<matplotlib.axes._subplots.AxesSubplot at 0x7f0347a93d90>"
            ]
          },
          "metadata": {},
          "execution_count": 116
        },
        {
          "output_type": "display_data",
          "data": {
            "text/plain": [
              "<Figure size 432x288 with 1 Axes>"
            ],
            "image/png": "[encoded data removed]"
          },
          "metadata": {
            "needs_background": "light"
          }
        }
      ]
    },
    {
      "cell_type": "markdown",
      "source": [
        "- The Utilib_14 cars dataset is skewed towards the right, with a large number of entries being below 20."
      ],
      "metadata": {
        "id": "QutiNu4v_yCc"
      }
    },
    {
      "cell_type": "code",
      "source": [
        "df1['bluecars_taken_sum'].corr(df1['bluecars_returned_sum'])"
      ],
      "metadata": {
        "id": "OQav7v5_6g4C",
        "colab": {
          "base_uri": "https://localhost:8080/"
        },
        "outputId": "64792a38-8449-44ac-a6a4-a98864432200"
      },
      "execution_count": 117,
      "outputs": [
        {
          "output_type": "execute_result",
          "data": {
            "text/plain": [
              "0.992041181514075"
            ]
          },
          "metadata": {},
          "execution_count": 117
        }
      ]
    },
    {
      "cell_type": "code",
      "source": [
        "# Correlation matrix\n",
        "df1.corr()"
      ],
      "metadata": {
        "colab": {
          "base_uri": "https://localhost:8080/",
          "height": 458
        },
        "id": "ZUYZw7B0Soew",
        "outputId": "21909fab-2382-49f7-ee1b-60da9b90ddc3"
      },
      "execution_count": 118,
      "outputs": [
        {
          "output_type": "execute_result",
          "data": {
            "text/plain": [
              "                        postal_code  n_daily_data_points  dayofweek  \\\n",
              "postal_code                1.000000             0.001195   0.004671   \n",
              "n_daily_data_points        0.001195             1.000000   0.098400   \n",
              "dayofweek                  0.004671             0.098400   1.000000   \n",
              "bluecars_taken_sum        -0.206847             0.003433   0.110733   \n",
              "bluecars_returned_sum     -0.208021             0.005715   0.103159   \n",
              "utilib_taken_sum          -0.132142             0.010958   0.075870   \n",
              "utilib_returned_sum       -0.129783             0.010642   0.077932   \n",
              "utilib_14_taken_sum       -0.150472             0.011844   0.086363   \n",
              "utilib_14_returned_sum    -0.149341             0.016537   0.083896   \n",
              "slots_freed_sum           -0.121932            -0.001043   0.020186   \n",
              "slots_taken_sum           -0.120596            -0.002158   0.014675   \n",
              "\n",
              "                        bluecars_taken_sum  bluecars_returned_sum  \\\n",
              "postal_code                      -0.206847              -0.208021   \n",
              "n_daily_data_points               0.003433               0.005715   \n",
              "dayofweek                         0.110733               0.103159   \n",
              "bluecars_taken_sum                1.000000               0.992041   \n",
              "bluecars_returned_sum             0.992041               1.000000   \n",
              "utilib_taken_sum                  0.626960               0.629297   \n",
              "utilib_returned_sum               0.625355               0.627041   \n",
              "utilib_14_taken_sum               0.751659               0.754341   \n",
              "utilib_14_returned_sum            0.747126               0.750467   \n",
              "slots_freed_sum                   0.312955               0.309676   \n",
              "slots_taken_sum                   0.310257               0.309799   \n",
              "\n",
              "                        utilib_taken_sum  utilib_returned_sum  \\\n",
              "postal_code                    -0.132142            -0.129783   \n",
              "n_daily_data_points             0.010958             0.010642   \n",
              "dayofweek                       0.075870             0.077932   \n",
              "bluecars_taken_sum              0.626960             0.625355   \n",
              "bluecars_returned_sum           0.629297             0.627041   \n",
              "utilib_taken_sum                1.000000             0.896131   \n",
              "utilib_returned_sum             0.896131             1.000000   \n",
              "utilib_14_taken_sum             0.505760             0.508498   \n",
              "utilib_14_returned_sum          0.497382             0.500723   \n",
              "slots_freed_sum                 0.204125             0.202881   \n",
              "slots_taken_sum                 0.203032             0.202152   \n",
              "\n",
              "                        utilib_14_taken_sum  utilib_14_returned_sum  \\\n",
              "postal_code                       -0.150472               -0.149341   \n",
              "n_daily_data_points                0.011844                0.016537   \n",
              "dayofweek                          0.086363                0.083896   \n",
              "bluecars_taken_sum                 0.751659                0.747126   \n",
              "bluecars_returned_sum              0.754341                0.750467   \n",
              "utilib_taken_sum                   0.505760                0.497382   \n",
              "utilib_returned_sum                0.508498                0.500723   \n",
              "utilib_14_taken_sum                1.000000                0.948078   \n",
              "utilib_14_returned_sum             0.948078                1.000000   \n",
              "slots_freed_sum                    0.220987                0.216981   \n",
              "slots_taken_sum                    0.219591                0.218259   \n",
              "\n",
              "                        slots_freed_sum  slots_taken_sum  \n",
              "postal_code                   -0.121932        -0.120596  \n",
              "n_daily_data_points           -0.001043        -0.002158  \n",
              "dayofweek                      0.020186         0.014675  \n",
              "bluecars_taken_sum             0.312955         0.310257  \n",
              "bluecars_returned_sum          0.309676         0.309799  \n",
              "utilib_taken_sum               0.204125         0.203032  \n",
              "utilib_returned_sum            0.202881         0.202152  \n",
              "utilib_14_taken_sum            0.220987         0.219591  \n",
              "utilib_14_returned_sum         0.216981         0.218259  \n",
              "slots_freed_sum                1.000000         0.985033  \n",
              "slots_taken_sum                0.985033         1.000000  "
            ],
            "text/html": [
              "\n",
              "  <div id=\"df-6a7b0c8f-81d5-46f2-8c21-56afda31d669\">\n",
              "    <div class=\"colab-df-container\">\n",
              "      <div>\n",
              "<style scoped>\n",
              "    .dataframe tbody tr th:only-of-type {\n",
              "        vertical-align: middle;\n",
              "    }\n",
              "\n",
              "    .dataframe tbody tr th {\n",
              "        vertical-align: top;\n",
              "    }\n",
              "\n",
              "    .dataframe thead th {\n",
              "        text-align: right;\n",
              "    }\n",
              "</style>\n",
              "<table border=\"1\" class=\"dataframe\">\n",
              "  <thead>\n",
              "    <tr style=\"text-align: right;\">\n",
              "      <th></th>\n",
              "      <th>postal_code</th>\n",
              "      <th>n_daily_data_points</th>\n",
              "      <th>dayofweek</th>\n",
              "      <th>bluecars_taken_sum</th>\n",
              "      <th>bluecars_returned_sum</th>\n",
              "      <th>utilib_taken_sum</th>\n",
              "      <th>utilib_returned_sum</th>\n",
              "      <th>utilib_14_taken_sum</th>\n",
              "      <th>utilib_14_returned_sum</th>\n",
              "      <th>slots_freed_sum</th>\n",
              "      <th>slots_taken_sum</th>\n",
              "    </tr>\n",
              "  </thead>\n",
              "  <tbody>\n",
              "    <tr>\n",
              "      <th>postal_code</th>\n",
              "      <td>1.000000</td>\n",
              "      <td>0.001195</td>\n",
              "      <td>0.004671</td>\n",
              "      <td>-0.206847</td>\n",
              "      <td>-0.208021</td>\n",
              "      <td>-0.132142</td>\n",
              "      <td>-0.129783</td>\n",
              "      <td>-0.150472</td>\n",
              "      <td>-0.149341</td>\n",
              "      <td>-0.121932</td>\n",
              "      <td>-0.120596</td>\n",
              "    </tr>\n",
              "    <tr>\n",
              "      <th>n_daily_data_points</th>\n",
              "      <td>0.001195</td>\n",
              "      <td>1.000000</td>\n",
              "      <td>0.098400</td>\n",
              "      <td>0.003433</td>\n",
              "      <td>0.005715</td>\n",
              "      <td>0.010958</td>\n",
              "      <td>0.010642</td>\n",
              "      <td>0.011844</td>\n",
              "      <td>0.016537</td>\n",
              "      <td>-0.001043</td>\n",
              "      <td>-0.002158</td>\n",
              "    </tr>\n",
              "    <tr>\n",
              "      <th>dayofweek</th>\n",
              "      <td>0.004671</td>\n",
              "      <td>0.098400</td>\n",
              "      <td>1.000000</td>\n",
              "      <td>0.110733</td>\n",
              "      <td>0.103159</td>\n",
              "      <td>0.075870</td>\n",
              "      <td>0.077932</td>\n",
              "      <td>0.086363</td>\n",
              "      <td>0.083896</td>\n",
              "      <td>0.020186</td>\n",
              "      <td>0.014675</td>\n",
              "    </tr>\n",
              "    <tr>\n",
              "      <th>bluecars_taken_sum</th>\n",
              "      <td>-0.206847</td>\n",
              "      <td>0.003433</td>\n",
              "      <td>0.110733</td>\n",
              "      <td>1.000000</td>\n",
              "      <td>0.992041</td>\n",
              "      <td>0.626960</td>\n",
              "      <td>0.625355</td>\n",
              "      <td>0.751659</td>\n",
              "      <td>0.747126</td>\n",
              "      <td>0.312955</td>\n",
              "      <td>0.310257</td>\n",
              "    </tr>\n",
              "    <tr>\n",
              "      <th>bluecars_returned_sum</th>\n",
              "      <td>-0.208021</td>\n",
              "      <td>0.005715</td>\n",
              "      <td>0.103159</td>\n",
              "      <td>0.992041</td>\n",
              "      <td>1.000000</td>\n",
              "      <td>0.629297</td>\n",
              "      <td>0.627041</td>\n",
              "      <td>0.754341</td>\n",
              "      <td>0.750467</td>\n",
              "      <td>0.309676</td>\n",
              "      <td>0.309799</td>\n",
              "    </tr>\n",
              "    <tr>\n",
              "      <th>utilib_taken_sum</th>\n",
              "      <td>-0.132142</td>\n",
              "      <td>0.010958</td>\n",
              "      <td>0.075870</td>\n",
              "      <td>0.626960</td>\n",
              "      <td>0.629297</td>\n",
              "      <td>1.000000</td>\n",
              "      <td>0.896131</td>\n",
              "      <td>0.505760</td>\n",
              "      <td>0.497382</td>\n",
              "      <td>0.204125</td>\n",
              "      <td>0.203032</td>\n",
              "    </tr>\n",
              "    <tr>\n",
              "      <th>utilib_returned_sum</th>\n",
              "      <td>-0.129783</td>\n",
              "      <td>0.010642</td>\n",
              "      <td>0.077932</td>\n",
              "      <td>0.625355</td>\n",
              "      <td>0.627041</td>\n",
              "      <td>0.896131</td>\n",
              "      <td>1.000000</td>\n",
              "      <td>0.508498</td>\n",
              "      <td>0.500723</td>\n",
              "      <td>0.202881</td>\n",
              "      <td>0.202152</td>\n",
              "    </tr>\n",
              "    <tr>\n",
              "      <th>utilib_14_taken_sum</th>\n",
              "      <td>-0.150472</td>\n",
              "      <td>0.011844</td>\n",
              "      <td>0.086363</td>\n",
              "      <td>0.751659</td>\n",
              "      <td>0.754341</td>\n",
              "      <td>0.505760</td>\n",
              "      <td>0.508498</td>\n",
              "      <td>1.000000</td>\n",
              "      <td>0.948078</td>\n",
              "      <td>0.220987</td>\n",
              "      <td>0.219591</td>\n",
              "    </tr>\n",
              "    <tr>\n",
              "      <th>utilib_14_returned_sum</th>\n",
              "      <td>-0.149341</td>\n",
              "      <td>0.016537</td>\n",
              "      <td>0.083896</td>\n",
              "      <td>0.747126</td>\n",
              "      <td>0.750467</td>\n",
              "      <td>0.497382</td>\n",
              "      <td>0.500723</td>\n",
              "      <td>0.948078</td>\n",
              "      <td>1.000000</td>\n",
              "      <td>0.216981</td>\n",
              "      <td>0.218259</td>\n",
              "    </tr>\n",
              "    <tr>\n",
              "      <th>slots_freed_sum</th>\n",
              "      <td>-0.121932</td>\n",
              "      <td>-0.001043</td>\n",
              "      <td>0.020186</td>\n",
              "      <td>0.312955</td>\n",
              "      <td>0.309676</td>\n",
              "      <td>0.204125</td>\n",
              "      <td>0.202881</td>\n",
              "      <td>0.220987</td>\n",
              "      <td>0.216981</td>\n",
              "      <td>1.000000</td>\n",
              "      <td>0.985033</td>\n",
              "    </tr>\n",
              "    <tr>\n",
              "      <th>slots_taken_sum</th>\n",
              "      <td>-0.120596</td>\n",
              "      <td>-0.002158</td>\n",
              "      <td>0.014675</td>\n",
              "      <td>0.310257</td>\n",
              "      <td>0.309799</td>\n",
              "      <td>0.203032</td>\n",
              "      <td>0.202152</td>\n",
              "      <td>0.219591</td>\n",
              "      <td>0.218259</td>\n",
              "      <td>0.985033</td>\n",
              "      <td>1.000000</td>\n",
              "    </tr>\n",
              "  </tbody>\n",
              "</table>\n",
              "</div>\n",
              "      <button class=\"colab-df-convert\" onclick=\"convertToInteractive('df-6a7b0c8f-81d5-46f2-8c21-56afda31d669')\"\n",
              "              title=\"Convert this dataframe to an interactive table.\"\n",
              "              style=\"display:none;\">\n",
              "        \n",
              "  <svg xmlns=\"http://www.w3.org/2000/svg\" height=\"24px\"viewBox=\"0 0 24 24\"\n",
              "       width=\"24px\">\n",
              "    <path d=\"M0 0h24v24H0V0z\" fill=\"none\"/>\n",
              "    <path d=\"M18.56 5.44l.94 2.06.94-2.06 2.06-.94-2.06-.94-.94-2.06-.94 2.06-2.06.94zm-11 1L8.5 8.5l.94-2.06 2.06-.94-2.06-.94L8.5 2.5l-.94 2.06-2.06.94zm10 10l.94 2.06.94-2.06 2.06-.94-2.06-.94-.94-2.06-.94 2.06-2.06.94z\"/><path d=\"M17.41 7.96l-1.37-1.37c-.4-.4-.92-.59-1.43-.59-.52 0-1.04.2-1.43.59L10.3 9.45l-7.72 7.72c-.78.78-.78 2.05 0 2.83L4 21.41c.39.39.9.59 1.41.59.51 0 1.02-.2 1.41-.59l7.78-7.78 2.81-2.81c.8-.78.8-2.07 0-2.86zM5.41 20L4 18.59l7.72-7.72 1.47 1.35L5.41 20z\"/>\n",
              "  </svg>\n",
              "      </button>\n",
              "      \n",
              "  <style>\n",
              "    .colab-df-container {\n",
              "      display:flex;\n",
              "      flex-wrap:wrap;\n",
              "      gap: 12px;\n",
              "    }\n",
              "\n",
              "    .colab-df-convert {\n",
              "      background-color: #E8F0FE;\n",
              "      border: none;\n",
              "      border-radius: 50%;\n",
              "      cursor: pointer;\n",
              "      display: none;\n",
              "      fill: #1967D2;\n",
              "      height: 32px;\n",
              "      padding: 0 0 0 0;\n",
              "      width: 32px;\n",
              "    }\n",
              "\n",
              "    .colab-df-convert:hover {\n",
              "      background-color: #E2EBFA;\n",
              "      box-shadow: 0px 1px 2px rgba(60, 64, 67, 0.3), 0px 1px 3px 1px rgba(60, 64, 67, 0.15);\n",
              "      fill: #174EA6;\n",
              "    }\n",
              "\n",
              "    [theme=dark] .colab-df-convert {\n",
              "      background-color: #3B4455;\n",
              "      fill: #D2E3FC;\n",
              "    }\n",
              "\n",
              "    [theme=dark] .colab-df-convert:hover {\n",
              "      background-color: #434B5C;\n",
              "      box-shadow: 0px 1px 3px 1px rgba(0, 0, 0, 0.15);\n",
              "      filter: drop-shadow(0px 1px 2px rgba(0, 0, 0, 0.3));\n",
              "      fill: #FFFFFF;\n",
              "    }\n",
              "  </style>\n",
              "\n",
              "      <script>\n",
              "        const buttonEl =\n",
              "          document.querySelector('#df-6a7b0c8f-81d5-46f2-8c21-56afda31d669 button.colab-df-convert');\n",
              "        buttonEl.style.display =\n",
              "          google.colab.kernel.accessAllowed ? 'block' : 'none';\n",
              "\n",
              "        async function convertToInteractive(key) {\n",
              "          const element = document.querySelector('#df-6a7b0c8f-81d5-46f2-8c21-56afda31d669');\n",
              "          const dataTable =\n",
              "            await google.colab.kernel.invokeFunction('convertToInteractive',\n",
              "                                                     [key], {});\n",
              "          if (!dataTable) return;\n",
              "\n",
              "          const docLinkHtml = 'Like what you see? Visit the ' +\n",
              "            '<a target=\"_blank\" href=https://colab.research.google.com/notebooks/data_table.ipynb>data table notebook</a>'\n",
              "            + ' to learn more about interactive tables.';\n",
              "          element.innerHTML = '';\n",
              "          dataTable['output_type'] = 'display_data';\n",
              "          await google.colab.output.renderOutput(dataTable, element);\n",
              "          const docLink = document.createElement('div');\n",
              "          docLink.innerHTML = docLinkHtml;\n",
              "          element.appendChild(docLink);\n",
              "        }\n",
              "      </script>\n",
              "    </div>\n",
              "  </div>\n",
              "  "
            ]
          },
          "metadata": {},
          "execution_count": 118
        }
      ]
    },
    {
      "cell_type": "code",
      "source": [
        "# Correlation Heatmap\n",
        "plt.subplots(figsize=(15,15))\n",
        "sns.heatmap(df1.corr(),annot=True)"
      ],
      "metadata": {
        "colab": {
          "base_uri": "https://localhost:8080/",
          "height": 992
        },
        "id": "sTf44x-qPG7f",
        "outputId": "e06b8db9-291e-42e7-f9b8-8d9816826dec"
      },
      "execution_count": 119,
      "outputs": [
        {
          "output_type": "execute_result",
          "data": {
            "text/plain": [
              "<matplotlib.axes._subplots.AxesSubplot at 0x7f0347a16f10>"
            ]
          },
          "metadata": {},
          "execution_count": 119
        },
        {
          "output_type": "display_data",
          "data": {
            "text/plain": [
              "<Figure size 1080x1080 with 2 Axes>"
            ],
            "image/png": "[encoded data removed]"
          },
          "metadata": {
            "needs_background": "light"
          }
        }
      ]
    },
    {
      "cell_type": "markdown",
      "source": [
        "Summary\n",
        "\n",
        "There is a strong positive correlation between:\n",
        "\n",
        "- The BlueCars taken and BlueCar returned Variable\n",
        "- The Free Charging Slots and the Taken Charging Slots columns.\n",
        "- The Utilib taken and Utilib returned variable\n",
        "- The Utilib_14 taken and the Utilib_14 returned\n",
        "\n",
        "- There is weak inverse relationship with the Postal Code and Charging Slots Taken variable and the Postal Code and Charging Slots Freed Variable. \n",
        " -The Charging Slots columns have a similar inverse relationship with the Daily data Points column."
      ],
      "metadata": {
        "id": "llPB_PaGQy2O"
      }
    },
    {
      "cell_type": "markdown",
      "source": [
        "#Bi-Variate Analysis"
      ],
      "metadata": {
        "id": "CQBYNXSuAqKv"
      }
    },
    {
      "cell_type": "code",
      "source": [
        "fig, (ax1,ax2,ax3) = plt.subplots(1,3, figsize=(10, 7))\n",
        "fig.suptitle('')\n",
        "sns.scatterplot(x= df1.bluecars_taken_sum , y= df1.bluecars_returned_sum, ax=ax1)\n",
        "sns.scatterplot(x= df1.utilib_taken_sum, y= df1.utilib_returned_sum, ax=ax2)\n",
        "sns.scatterplot(x=df1.utilib_14_taken_sum , y= df1.utilib_14_returned_sum, ax=ax3)\n",
        "\n",
        "plt.show()"
      ],
      "metadata": {
        "colab": {
          "base_uri": "https://localhost:8080/",
          "height": 443
        },
        "id": "RjiuSAQ5_9D1",
        "outputId": "41e1037e-d7ef-4d36-9d60-dfdcf2aab330"
      },
      "execution_count": 121,
      "outputs": [
        {
          "output_type": "display_data",
          "data": {
            "text/plain": [
              "<Figure size 720x504 with 3 Axes>"
            ],
            "image/png": "[encoded data removed]"
          },
          "metadata": {
            "needs_background": "light"
          }
        }
      ]
    },
    {
      "cell_type": "markdown",
      "source": [
        "There is a strong correlation within the pairs of the related data"
      ],
      "metadata": {
        "id": "hhXeSsjFCDBW"
      }
    },
    {
      "cell_type": "markdown",
      "source": [
        "# Hypothesis Testing"
      ],
      "metadata": {
        "id": "FWtDV2GtQ5bN"
      }
    },
    {
      "cell_type": "markdown",
      "source": [
        "# Sampling"
      ],
      "metadata": {
        "id": "vPNK6pFgCaxl"
      }
    },
    {
      "cell_type": "markdown",
      "source": [
        "-  Total number of Bluecarstaken and Total number of  BlueCars returned\n",
        "\n"
      ],
      "metadata": {
        "id": "tHkCDb3mDFQV"
      }
    },
    {
      "cell_type": "code",
      "source": [
        "df1['total_vehicles_taken'] =df1['bluecars_taken_sum'] + df1['utilib_taken_sum'] + df1['utilib_14_taken_sum']\n",
        "df1['total_vehicles_returned'] = df1['bluecars_returned_sum'] + df1['utilib_returned_sum'] + df1['utilib_14_returned_sum']\n"
      ],
      "metadata": {
        "id": "-cBc6SyZCZit"
      },
      "execution_count": 122,
      "outputs": []
    },
    {
      "cell_type": "markdown",
      "source": [
        "Total Number of utilib cars taken"
      ],
      "metadata": {
        "id": "iUdriaScl-f3"
      }
    },
    {
      "cell_type": "code",
      "source": [
        "df1['total_utilibcars_taken'] =df1['utilib_taken_sum'] + df1['utilib_14_taken_sum']"
      ],
      "metadata": {
        "id": "azGvNpBFEveW"
      },
      "execution_count": 123,
      "outputs": []
    },
    {
      "cell_type": "code",
      "source": [
        "# Using the random int generator to randomly select one of the days between 0 and 4\n",
        "random = np.random.randint(0, 4)\n",
        "random"
      ],
      "metadata": {
        "colab": {
          "base_uri": "https://localhost:8080/"
        },
        "id": "NIX-M3pLFCGV",
        "outputId": "f6725396-a8dd-4edf-e9f4-3b8d497d9f97"
      },
      "execution_count": 124,
      "outputs": [
        {
          "output_type": "execute_result",
          "data": {
            "text/plain": [
              "1"
            ]
          },
          "metadata": {},
          "execution_count": 124
        }
      ]
    },
    {
      "cell_type": "code",
      "source": [
        "sample = df1[df1['dayofweek']== random]\n",
        "sample.info()"
      ],
      "metadata": {
        "colab": {
          "base_uri": "https://localhost:8080/"
        },
        "id": "xrtheVrMFPNt",
        "outputId": "23ab5628-0536-4ac7-8af8-2f483ee24de0"
      },
      "execution_count": 125,
      "outputs": [
        {
          "output_type": "stream",
          "name": "stdout",
          "text": [
            "<class 'pandas.core.frame.DataFrame'>\n",
            "Int64Index: 1520 entries, 3900 to 16077\n",
            "Data columns (total 16 columns):\n",
            " #   Column                   Non-Null Count  Dtype \n",
            "---  ------                   --------------  ----- \n",
            " 0   postal_code              1520 non-null   int64 \n",
            " 1   date                     1520 non-null   object\n",
            " 2   n_daily_data_points      1520 non-null   int64 \n",
            " 3   dayofweek                1520 non-null   int64 \n",
            " 4   day_type                 1520 non-null   object\n",
            " 5   bluecars_taken_sum       1520 non-null   int64 \n",
            " 6   bluecars_returned_sum    1520 non-null   int64 \n",
            " 7   utilib_taken_sum         1520 non-null   int64 \n",
            " 8   utilib_returned_sum      1520 non-null   int64 \n",
            " 9   utilib_14_taken_sum      1520 non-null   int64 \n",
            " 10  utilib_14_returned_sum   1520 non-null   int64 \n",
            " 11  slots_freed_sum          1520 non-null   int64 \n",
            " 12  slots_taken_sum          1520 non-null   int64 \n",
            " 13  total_vehicles_taken     1520 non-null   int64 \n",
            " 14  total_vehicles_returned  1520 non-null   int64 \n",
            " 15  total_utilibcars_taken   1520 non-null   int64 \n",
            "dtypes: int64(14), object(2)\n",
            "memory usage: 201.9+ KB\n"
          ]
        }
      ]
    },
    {
      "cell_type": "markdown",
      "source": [
        "### Testing"
      ],
      "metadata": {
        "id": "lcU0fy4TFqrK"
      }
    },
    {
      "cell_type": "markdown",
      "source": [
        "- On a given weekday, the number of BlueCars taken is more than the total combined number of Utilib and Utilib_14 cars. The confidence level for this test will be 0.95 hence an alpha value of 0.05."
      ],
      "metadata": {
        "id": "6lR9JusmFwnD"
      }
    },
    {
      "cell_type": "code",
      "source": [
        "# Average number of all BluCars taken during the period of our review\n",
        "Avg_BlueCars = df1['bluecars_taken_sum'].mean()\n",
        "Avg_UtilibCars = df1['total_utilibcars_taken'].mean()\n",
        "\n",
        "# Average of a sample of Utilib and Utilib_14 cars taken on a random day\n",
        "sample_Bluecars_mean=sample['bluecars_taken_sum'].mean()\n",
        "sample_Utilibcars_mean = df1['total_utilibcars_taken'].mean()\n",
        "\n",
        "# Standard deviation of all BluCars taken during the period of our review\n",
        "std_dev_of_BlueCars = df1['bluecars_taken_sum'].std()\n",
        "std_dev_of_Utilibcars= df1['total_utilibcars_taken'].std()"
      ],
      "metadata": {
        "id": "I6ySZ3vmF8Jo"
      },
      "execution_count": 128,
      "outputs": []
    },
    {
      "cell_type": "markdown",
      "source": [
        "### Z-Score"
      ],
      "metadata": {
        "id": "wWi1S6l2Pm57"
      }
    },
    {
      "cell_type": "code",
      "source": [
        "Z = (sample_Utilibcars_mean - Avg_BlueCars)/std_dev_of_BlueCars\n",
        "Z"
      ],
      "metadata": {
        "colab": {
          "base_uri": "https://localhost:8080/"
        },
        "id": "LO0XkADzIdnH",
        "outputId": "4b2088ba-b560-4b55-b19d-8251fc844842"
      },
      "execution_count": 129,
      "outputs": [
        {
          "output_type": "execute_result",
          "data": {
            "text/plain": [
              "-0.9540739933613558"
            ]
          },
          "metadata": {},
          "execution_count": 129
        }
      ]
    },
    {
      "cell_type": "markdown",
      "source": [
        "### P-Value"
      ],
      "metadata": {
        "id": "FnSvv343PuP1"
      }
    },
    {
      "cell_type": "code",
      "source": [
        "P = 1 - stats.norm.cdf(Z)\n",
        "P"
      ],
      "metadata": {
        "colab": {
          "base_uri": "https://localhost:8080/"
        },
        "id": "-6qcsde8MmXd",
        "outputId": "1f8e01de-bc4d-44f1-e2ad-741ff3ef3d51"
      },
      "execution_count": 130,
      "outputs": [
        {
          "output_type": "execute_result",
          "data": {
            "text/plain": [
              "0.8299769053830743"
            ]
          },
          "metadata": {},
          "execution_count": 130
        }
      ]
    },
    {
      "cell_type": "markdown",
      "source": [
        "The p value of 0.8299 is greater than the alpha value of 0.05. For this reason, the null hypothesis is accepted, that the number of BlueCars taken is less than or equal to the total combined number of Utilib and Utilib_14 cars."
      ],
      "metadata": {
        "id": "I5BELHLgNvQF"
      }
    }
  ]
}